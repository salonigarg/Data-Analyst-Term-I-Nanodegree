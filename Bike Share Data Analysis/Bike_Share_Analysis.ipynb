{
 "cells": [
  {
   "cell_type": "markdown",
   "metadata": {},
   "source": [
    "# 2016 US Bike Share Activity Snapshot\n",
    "\n",
    "## Table of Contents\n",
    "- [Introduction](#intro)\n",
    "- [Posing Questions](#pose_questions)\n",
    "- [Data Collection and Wrangling](#wrangling)\n",
    "  - [Condensing the Trip Data](#condensing)\n",
    "- [Exploratory Data Analysis](#eda)\n",
    "  - [Statistics](#statistics)\n",
    "  - [Visualizations](#visualizations)\n",
    "- [Performing Your Own Analysis](#eda_continued)\n",
    "- [Conclusions](#conclusions)\n",
    "\n",
    "<a id='intro'></a>\n",
    "## Introduction\n",
    "\n",
    "> **Tip**: Quoted sections like this will provide helpful instructions on how to navigate and use a Jupyter notebook.\n",
    "\n",
    "Over the past decade, bicycle-sharing systems have been growing in number and popularity in cities across the world. Bicycle-sharing systems allow users to rent bicycles for short trips, typically 30 minutes or less. Thanks to the rise in information technologies, it is easy for a user of the system to access a dock within the system to unlock or return bicycles. These technologies also provide a wealth of data that can be used to explore how these bike-sharing systems are used.\n",
    "\n",
    "In this project, you will perform an exploratory analysis on data provided by [Motivate](https://www.motivateco.com/), a bike-share system provider for many major cities in the United States. You will compare the system usage between three large cities: New York City, Chicago, and Washington, DC. You will also see if there are any differences within each system for those users that are registered, regular users and those users that are short-term, casual users."
   ]
  },
  {
   "cell_type": "markdown",
   "metadata": {},
   "source": [
    "<a id='pose_questions'></a>\n",
    "## Posing Questions\n",
    "\n",
    "Before looking at the bike sharing data, you should start by asking questions you might want to understand about the bike share data. Consider, for example, if you were working for Motivate. What kinds of information would you want to know about in order to make smarter business decisions? If you were a user of the bike-share service, what factors might influence how you would want to use the service?\n",
    "\n",
    "**Question 1**: Write at least two questions related to bike sharing that you think could be answered by data.\n",
    "\n",
    "**Answer**:**a)** In which of the three cities, bikeshare service is more used by females?\n",
    "           **b)** Which city has highest number of subscribers?\n",
    "\n",
    "> **Tip**: If you double click on this cell, you will see the text change so that all of the formatting is removed. This allows you to edit this block of text. This block of text is written using [Markdown](http://daringfireball.net/projects/markdown/syntax), which is a way to format text using headers, links, italics, and many other options using a plain-text syntax. You will also use Markdown later in the Nanodegree program. Use **Shift** + **Enter** or **Shift** + **Return** to run the cell and show its rendered form."
   ]
  },
  {
   "cell_type": "markdown",
   "metadata": {},
   "source": [
    "<a id='wrangling'></a>\n",
    "## Data Collection and Wrangling\n",
    "\n",
    "Now it's time to collect and explore our data. In this project, we will focus on the record of individual trips taken in 2016 from our selected cities: New York City, Chicago, and Washington, DC. Each of these cities has a page where we can freely download the trip data.:\n",
    "\n",
    "- New York City (Citi Bike): [Link](https://www.citibikenyc.com/system-data)\n",
    "- Chicago (Divvy): [Link](https://www.divvybikes.com/system-data)\n",
    "- Washington, DC (Capital Bikeshare): [Link](https://www.capitalbikeshare.com/system-data)\n",
    "\n",
    "If you visit these pages, you will notice that each city has a different way of delivering its data. Chicago updates with new data twice a year, Washington DC is quarterly, and New York City is monthly. **However, you do not need to download the data yourself.** The data has already been collected for you in the `/data/` folder of the project files. While the original data for 2016 is spread among multiple files for each city, the files in the `/data/` folder collect all of the trip data for the year into one file per city. Some data wrangling of inconsistencies in timestamp format within each city has already been performed for you. In addition, a random 2% sample of the original data is taken to make the exploration more manageable. \n",
    "\n",
    "**Question 2**: However, there is still a lot of data for us to investigate, so it's a good idea to start off by looking at one entry from each of the cities we're going to analyze. Run the first code cell below to load some packages and functions that you'll be using in your analysis. Then, complete the second code cell to print out the first trip recorded from each of the cities (the second line of each data file).\n",
    "\n",
    "> **Tip**: You can run a code cell like you formatted Markdown cells above by clicking on the cell and using the keyboard shortcut **Shift** + **Enter** or **Shift** + **Return**. Alternatively, a code cell can be executed using the **Play** button in the toolbar after selecting it. While the cell is running, you will see an asterisk in the message to the left of the cell, i.e. `In [*]:`. The asterisk will change into a number to show that execution has completed, e.g. `In [1]`. If there is output, it will show up as `Out [1]:`, with an appropriate number to match the \"In\" number."
   ]
  },
  {
   "cell_type": "code",
   "execution_count": 4,
   "metadata": {
    "collapsed": true
   },
   "outputs": [],
   "source": [
    "## import all necessary packages and functions.\n",
    "from time import time\n",
    "import csv # read and write csv files\n",
    "from datetime import datetime # operations to parse dates\n",
    "from pprint import pprint # use to print data structures like dictionaries in\n",
    "                          # a nicer way than the base print function.\n",
    "from matplotlib import pyplot\n",
    "import matplotlib.pyplot as plt\n",
    "import pandas as pd \n",
    "import numpy as np\n",
    "# this is a 'magic word' that allows for plots to be displayed\n",
    "# inline with the notebook. If you want to know more, see:\n",
    "# http://ipython.readthedocs.io/en/stable/interactive/magics.html\n",
    "% matplotlib inline "
   ]
  },
  {
   "cell_type": "code",
   "execution_count": 5,
   "metadata": {},
   "outputs": [
    {
     "name": "stdout",
     "output_type": "stream",
     "text": [
      "\n",
      "City: NYC\n",
      "OrderedDict([('tripduration', '839'),\n",
      "             ('starttime', '1/1/2016 00:09:55'),\n",
      "             ('stoptime', '1/1/2016 00:23:54'),\n",
      "             ('start station id', '532'),\n",
      "             ('start station name', 'S 5 Pl & S 4 St'),\n",
      "             ('start station latitude', '40.710451'),\n",
      "             ('start station longitude', '-73.960876'),\n",
      "             ('end station id', '401'),\n",
      "             ('end station name', 'Allen St & Rivington St'),\n",
      "             ('end station latitude', '40.72019576'),\n",
      "             ('end station longitude', '-73.98997825'),\n",
      "             ('bikeid', '17109'),\n",
      "             ('usertype', 'Customer'),\n",
      "             ('birth year', ''),\n",
      "             ('gender', '0')])\n",
      "\n",
      "City: Chicago\n",
      "OrderedDict([('trip_id', '9080545'),\n",
      "             ('starttime', '3/31/2016 23:30'),\n",
      "             ('stoptime', '3/31/2016 23:46'),\n",
      "             ('bikeid', '2295'),\n",
      "             ('tripduration', '926'),\n",
      "             ('from_station_id', '156'),\n",
      "             ('from_station_name', 'Clark St & Wellington Ave'),\n",
      "             ('to_station_id', '166'),\n",
      "             ('to_station_name', 'Ashland Ave & Wrightwood Ave'),\n",
      "             ('usertype', 'Subscriber'),\n",
      "             ('gender', 'Male'),\n",
      "             ('birthyear', '1990')])\n",
      "\n",
      "City: Washington\n",
      "OrderedDict([('Duration (ms)', '427387'),\n",
      "             ('Start date', '3/31/2016 22:57'),\n",
      "             ('End date', '3/31/2016 23:04'),\n",
      "             ('Start station number', '31602'),\n",
      "             ('Start station', 'Park Rd & Holmead Pl NW'),\n",
      "             ('End station number', '31207'),\n",
      "             ('End station', 'Georgia Ave and Fairmont St NW'),\n",
      "             ('Bike number', 'W20842'),\n",
      "             ('Member Type', 'Registered')])\n"
     ]
    }
   ],
   "source": [
    "def print_first_point(filename):\n",
    "    \"\"\"\n",
    "    This function prints and returns the first data point (second row) from\n",
    "    a csv file that includes a header row.\n",
    "    \"\"\"\n",
    "    # print city name for reference\n",
    "    city = filename.split('-')[0].split('/')[-1]\n",
    "    print('\\nCity: {}'.format(city))\n",
    "    \n",
    "    with open(filename, 'r') as f_in:\n",
    "        ## TODO: Use the csv library to set up a DictReader object. ##\n",
    "        ## see https://docs.python.org/3/library/csv.html           ##\n",
    "        trip_reader = csv.DictReader(f_in)\n",
    "        \n",
    "        ## TODO: Use a function on the DictReader object to read the     ##\n",
    "        ## first trip from the data file and store it in a variable.     ##\n",
    "        ## see https://docs.python.org/3/library/csv.html#reader-objects ##\n",
    "        first_trip = trip_reader.__next__()\n",
    "        #pp = pprint.PrettyPrinter(indent=4)\n",
    "        pprint(first_trip)\n",
    "        ## TODO: Use the pprint library to print the first trip. ##\n",
    "        ## see https://docs.python.org/3/library/pprint.html     ##\n",
    "        \n",
    "    # output city name and first trip for later testing\n",
    "    return (city, first_trip)\n",
    "\n",
    "# list of files for each city\n",
    "data_files = ['./data/NYC-CitiBike-2016.csv',\n",
    "              './data/Chicago-Divvy-2016.csv',\n",
    "              './data/Washington-CapitalBikeshare-2016.csv']\n",
    "\n",
    "# print the first trip from each file, store in dictionary\n",
    "example_trips = {}\n",
    "for data_file in data_files:\n",
    "    city, first_trip = print_first_point(data_file)\n",
    "    example_trips[city] = first_trip"
   ]
  },
  {
   "cell_type": "markdown",
   "metadata": {},
   "source": [
    "If everything has been filled out correctly, you should see below the printout of each city name (which has been parsed from the data file name) that the first trip has been parsed in the form of a dictionary. When you set up a `DictReader` object, the first row of the data file is normally interpreted as column names. Every other row in the data file will use those column names as keys, as a dictionary is generated for each row.\n",
    "\n",
    "This will be useful since we can refer to quantities by an easily-understandable label instead of just a numeric index. For example, if we have a trip stored in the variable `row`, then we would rather get the trip duration from `row['duration']` instead of `row[0]`.\n",
    "\n",
    "<a id='condensing'></a>\n",
    "### Condensing the Trip Data\n",
    "\n",
    "It should also be observable from the above printout that each city provides different information. Even where the information is the same, the column names and formats are sometimes different. To make things as simple as possible when we get to the actual exploration, we should trim and clean the data. Cleaning the data makes sure that the data formats across the cities are consistent, while trimming focuses only on the parts of the data we are most interested in to make the exploration easier to work with.\n",
    "\n",
    "You will generate new data files with five values of interest for each trip: trip duration, starting month, starting hour, day of the week, and user type. Each of these may require additional wrangling depending on the city:\n",
    "\n",
    "- **Duration**: This has been given to us in seconds (New York, Chicago) or milliseconds (Washington). A more natural unit of analysis will be if all the trip durations are given in terms of minutes.\n",
    "- **Month**, **Hour**, **Day of Week**: Ridership volume is likely to change based on the season, time of day, and whether it is a weekday or weekend. Use the start time of the trip to obtain these values. The New York City data includes the seconds in their timestamps, while Washington and Chicago do not. The [`datetime`](https://docs.python.org/3/library/datetime.html) package will be very useful here to make the needed conversions.\n",
    "- **User Type**: It is possible that users who are subscribed to a bike-share system will have different patterns of use compared to users who only have temporary passes. Washington divides its users into two types: 'Registered' for users with annual, monthly, and other longer-term subscriptions, and 'Casual', for users with 24-hour, 3-day, and other short-term passes. The New York and Chicago data uses 'Subscriber' and 'Customer' for these groups, respectively. For consistency, you will convert the Washington labels to match the other two. It also turns out that there are some trips in the New York city dataset that do not have an attached user type. Since we don't have enough information to fill these values in, just leave them as-is for now.\n",
    "\n",
    "\n",
    "**Question 3a**: Complete the helper functions in the code cells below to address each of the cleaning tasks described above."
   ]
  },
  {
   "cell_type": "code",
   "execution_count": 6,
   "metadata": {
    "collapsed": true
   },
   "outputs": [],
   "source": [
    "def duration_in_mins(datum, city):\n",
    "    \"\"\"\n",
    "    Takes as input a dictionary containing info about a single trip (datum) and\n",
    "    its origin city (city) and returns the trip duration in units of minutes.\n",
    "    \n",
    "    Remember that Washington is in terms of milliseconds while Chicago and NYC\n",
    "    are in terms of seconds. \n",
    "    \n",
    "    HINT: The csv module reads in all of the data as strings, including numeric\n",
    "    values. You will need a function to convert the strings into an appropriate\n",
    "    numeric type when making your transformations.\n",
    "    see https://docs.python.org/3/library/functions.html\n",
    "    \"\"\"\n",
    "    # YOUR CODE HERE\n",
    "    if city == 'Washington':\n",
    "        number = float(datum['Duration (ms)'])\n",
    "        duration = (number/(1000*60))\n",
    "    else:\n",
    "        number = float(datum['tripduration'])\n",
    "        duration = number/60\n",
    "    return duration\n",
    "\n",
    "\n",
    "# Some tests to check that your code works. There should be no output if all of\n",
    "# the assertions pass. The `example_trips` dictionary was obtained from when\n",
    "# you printed the first trip from each of the original data files.\n",
    "tests = {'NYC': 13.9833,\n",
    "         'Chicago': 15.4333,\n",
    "         'Washington': 7.1231}\n",
    "\n",
    "for city in tests:\n",
    "    assert abs(duration_in_mins(example_trips[city], city) - tests[city]) < .001"
   ]
  },
  {
   "cell_type": "code",
   "execution_count": 7,
   "metadata": {
    "collapsed": true
   },
   "outputs": [],
   "source": [
    "def time_of_trip(datum, city):\n",
    "    \"\"\"\n",
    "    Takes as input a dictionary containing info about a single trip (datum) and\n",
    "    its origin city (city) and returns the month, hour, and day of the week in\n",
    "    which the trip was made.\n",
    "    \n",
    "    Remember that NYC includes seconds, while Washington and Chicago do not.\n",
    "    \n",
    "    HINT: You should use the datetime module to parse the original date\n",
    "    strings into a format that is useful for extracting the desired information.\n",
    "    see https://docs.python.org/3/library/datetime.html#strftime-and-strptime-behavior\n",
    "    \"\"\"\n",
    "    # YOUR CODE HERE\n",
    "    if city == 'NYC':\n",
    "        d = datum['starttime']\n",
    "        dt_obj = datetime.strptime(d, '%m/%d/%Y %H:%M:%S')\n",
    "    elif city == 'Chicago':\n",
    "        d = datum['starttime']\n",
    "        dt_obj = datetime.strptime(d, '%m/%d/%Y %H:%M')\n",
    "    else:\n",
    "        d = datum['Start date']\n",
    "        dt_obj = datetime.strptime(d, '%m/%d/%Y %H:%M')\n",
    "    month = dt_obj.month\n",
    "    hour = dt_obj.hour\n",
    "    day_of_week = dt_obj.strftime('%A')\n",
    "    return (month, hour, day_of_week)\n",
    "\n",
    "\n",
    "# Some tests to check that your code works. There should be no output if all of\n",
    "# the assertions pass. The `example_trips` dictionary was obtained from when\n",
    "# you printed the first trip from each of the original data files.\n",
    "tests = {'NYC': (1, 0, 'Friday'),\n",
    "         'Chicago': (3, 23, 'Thursday'),\n",
    "         'Washington': (3, 22, 'Thursday')}\n",
    "\n",
    "for city in tests:\n",
    "    assert time_of_trip(example_trips[city], city) == tests[city]"
   ]
  },
  {
   "cell_type": "code",
   "execution_count": 8,
   "metadata": {
    "collapsed": true
   },
   "outputs": [],
   "source": [
    "def type_of_user(datum, city):\n",
    "    \"\"\"\n",
    "    Takes as input a dictionary containing info about a single trip (datum) and\n",
    "    its origin city (city) and returns the type of system user that made the\n",
    "    trip.\n",
    "    \n",
    "    Remember that Washington has different category names compared to Chicago\n",
    "    and NYC. NYC has some data points with a missing user type; you can leave\n",
    "    these as they are (empty string).\n",
    "    \"\"\"\n",
    "    # YOUR CODE HERE\n",
    "    if city == 'Washington':\n",
    "        if datum['Member Type'] == 'Registered':\n",
    "            user_type = 'Subscriber'\n",
    "        else:\n",
    "            user_type = 'Customer'\n",
    "    else:\n",
    "        user_type = datum['usertype']\n",
    "    return user_type\n",
    "\n",
    "\n",
    "# Some tests to check that your code works. There should be no output if all of\n",
    "# the assertions pass. The `example_trips` dictionary was obtained from when\n",
    "# you printed the first trip from each of the original data files.\n",
    "tests = {'NYC': 'Customer',\n",
    "         'Chicago': 'Subscriber',\n",
    "         'Washington': 'Subscriber'}\n",
    "\n",
    "for city in tests:\n",
    "    assert type_of_user(example_trips[city], city) == tests[city]"
   ]
  },
  {
   "cell_type": "markdown",
   "metadata": {},
   "source": [
    "**Question 3b**: Now, use the helper functions you wrote above to create a condensed data file for each city consisting only of the data fields indicated above. In the `/examples/` folder, you will see an example datafile from the [Bay Area Bike Share](http://www.bayareabikeshare.com/open-data) before and after conversion. Make sure that your output is formatted to be consistent with the example file."
   ]
  },
  {
   "cell_type": "code",
   "execution_count": 9,
   "metadata": {
    "collapsed": true
   },
   "outputs": [],
   "source": [
    "def condense_data(in_file, out_file, city):\n",
    "    \"\"\"\n",
    "    This function takes full data from the specified input file\n",
    "    and writes the condensed data to a specified output file. The city\n",
    "    argument determines how the input file will be parsed.\n",
    "    \n",
    "    HINT: See the cell below to see how the arguments are structured!\n",
    "    \"\"\"\n",
    "    \n",
    "    with open(out_file, 'w') as f_out, open(in_file, 'r') as f_in:\n",
    "        # set up csv DictWriter object - writer requires column names for the\n",
    "        # first row as the \"fieldnames\" argument\n",
    "        out_colnames = ['duration', 'month', 'hour', 'day_of_week', 'user_type']        \n",
    "        trip_writer = csv.DictWriter(f_out, fieldnames = out_colnames)\n",
    "        trip_writer.writeheader()\n",
    "        \n",
    "        ## TODO: set up csv DictReader object ##\n",
    "        trip_reader = csv.DictReader(f_in)\n",
    "\n",
    "        # collect data from and process each row\n",
    "        for row in trip_reader:\n",
    "            # set up a dictionary to hold the values for the cleaned and trimmed\n",
    "            # data point\n",
    "            new_point = {}\n",
    "            ## TODO: use the helper functions to get the cleaned data from  ##\n",
    "            ## the original data dictionaries.                              ##\n",
    "            ## Note that the keys for the new_point dictionary should match ##\n",
    "            ## the column names set in the DictWriter object above.         ##\n",
    "            durtion = duration_in_mins(row,city)\n",
    "            mnt,hr,day_of_wk = time_of_trip(row,city)\n",
    "            user = type_of_user(row,city)\n",
    "            new_point['duration'] = durtion\n",
    "            new_point['month'] = mnt\n",
    "            new_point['hour'] = hr\n",
    "            new_point['day_of_week'] = day_of_wk\n",
    "            new_point['user_type'] = user\n",
    "            ## TODO: write the processed information to the output file.     ##\n",
    "            ## see https://docs.python.org/3/library/csv.html#writer-objects ##\n",
    "            trip_writer.writerow(new_point)         "
   ]
  },
  {
   "cell_type": "code",
   "execution_count": 10,
   "metadata": {},
   "outputs": [
    {
     "name": "stdout",
     "output_type": "stream",
     "text": [
      "\n",
      "City: Washington\n",
      "OrderedDict([('duration', '7.123116666666666'),\n",
      "             ('month', '3'),\n",
      "             ('hour', '22'),\n",
      "             ('day_of_week', 'Thursday'),\n",
      "             ('user_type', 'Subscriber')])\n",
      "\n",
      "City: Chicago\n",
      "OrderedDict([('duration', '15.433333333333334'),\n",
      "             ('month', '3'),\n",
      "             ('hour', '23'),\n",
      "             ('day_of_week', 'Thursday'),\n",
      "             ('user_type', 'Subscriber')])\n",
      "\n",
      "City: NYC\n",
      "OrderedDict([('duration', '13.983333333333333'),\n",
      "             ('month', '1'),\n",
      "             ('hour', '0'),\n",
      "             ('day_of_week', 'Friday'),\n",
      "             ('user_type', 'Customer')])\n"
     ]
    }
   ],
   "source": [
    "# Run this cell to check your work\n",
    "city_info = {'Washington': {'in_file': './data/Washington-CapitalBikeshare-2016.csv',\n",
    "                            'out_file': './data/Washington-2016-Summary.csv'},\n",
    "             'Chicago': {'in_file': './data/Chicago-Divvy-2016.csv',\n",
    "                         'out_file': './data/Chicago-2016-Summary.csv'},\n",
    "             'NYC': {'in_file': './data/NYC-CitiBike-2016.csv',\n",
    "                     'out_file': './data/NYC-2016-Summary.csv'}}\n",
    "\n",
    "for city, filenames in city_info.items():\n",
    "    condense_data(filenames['in_file'], filenames['out_file'], city)\n",
    "    print_first_point(filenames['out_file'])"
   ]
  },
  {
   "cell_type": "markdown",
   "metadata": {},
   "source": [
    "> **Tip**: If you save a jupyter Notebook, the output from running code blocks will also be saved. However, the state of your workspace will be reset once a new session is started. Make sure that you run all of the necessary code blocks from your previous session to reestablish variables and functions before picking up where you last left off.\n",
    "\n",
    "<a id='eda'></a>\n",
    "## Exploratory Data Analysis\n",
    "\n",
    "Now that you have the data collected and wrangled, you're ready to start exploring the data. In this section you will write some code to compute descriptive statistics from the data. You will also be introduced to the `matplotlib` library to create some basic histograms of the data.\n",
    "\n",
    "<a id='statistics'></a>\n",
    "### Statistics\n",
    "\n",
    "First, let's compute some basic counts. The first cell below contains a function that uses the csv module to iterate through a provided data file, returning the number of trips made by subscribers and customers. The second cell runs this function on the example Bay Area data in the `/examples/` folder. Modify the cells to answer the question below.\n",
    "\n",
    "**Question 4a**: Which city has the highest number of trips? Which city has the highest proportion of trips made by subscribers? Which city has the highest proportion of trips made by short-term customers?\n",
    "\n",
    "**Answer**: Replace this text with your response!"
   ]
  },
  {
   "cell_type": "code",
   "execution_count": 11,
   "metadata": {
    "collapsed": true
   },
   "outputs": [],
   "source": [
    "def number_of_trips(filename):\n",
    "    \"\"\"\n",
    "    This function reads in a file with trip data and reports the number of\n",
    "    trips made by subscribers, customers, and total overall.\n",
    "    \"\"\"\n",
    "    with open(filename, 'r') as f_in:\n",
    "        # set up csv reader object\n",
    "        reader = csv.DictReader(f_in)\n",
    "        \n",
    "        # initialize count variables\n",
    "        n_subscribers = 0\n",
    "        n_customers = 0\n",
    "        \n",
    "        # tally up ride types\n",
    "        for row in reader:\n",
    "            if row['user_type'] == 'Subscriber':\n",
    "                n_subscribers += 1\n",
    "            elif row['user_type'] == 'Customer':\n",
    "                n_customers += 1\n",
    "        \n",
    "        # compute total number of rides\n",
    "        n_total = n_subscribers + n_customers\n",
    "        city = filename.split('-')[0].split('/')[-1]\n",
    "        # return tallies as a tuple\n",
    "        return(n_subscribers, n_customers, n_total)"
   ]
  },
  {
   "cell_type": "code",
   "execution_count": 12,
   "metadata": {},
   "outputs": [
    {
     "name": "stdout",
     "output_type": "stream",
     "text": [
      "(5666, 633, 6299)\n"
     ]
    }
   ],
   "source": [
    "## Modify this and the previous cell to answer Question 4a. Remember to run ##\n",
    "## the function on the cleaned data files you created from Question 3.      ##\n",
    "\n",
    "data_file = './examples/BayArea-Y3-Summary.csv'\n",
    "print(number_of_trips(data_file))"
   ]
  },
  {
   "cell_type": "code",
   "execution_count": 13,
   "metadata": {
    "collapsed": true
   },
   "outputs": [],
   "source": [
    "city_information = {'Washington': {'in_file': './data/Washington-2016-Summary.csv'},\n",
    "             'Chicago': {'in_file': './data/Chicago-2016-Summary.csv'},\n",
    "             'NYC': {'in_file': './data/NYC-2016-Summary.csv'}}\n",
    "max_trip_city = 'x'\n",
    "max_trips = 0\n",
    "max_subscribers = 0\n",
    "max_customers = 0\n",
    "max_subs_city = 'x'\n",
    "max_cust_city = 'x'\n",
    "for city, filenames in city_information.items():\n",
    "    subscribers,customers,total = number_of_trips(filenames['in_file'])\n",
    "    max_trips = total\n",
    "    max_trip_city = city\n",
    "    if ((subscribers/total)*100) > max_subscribers:\n",
    "        max_subscribers = (subscribers/total)*100\n",
    "        max_subs_city = city\n",
    "        \n",
    "    if ((customers/total)*100) > max_customers:\n",
    "        max_customers = (customers/total)*100\n",
    "        max_cust_city = city\n",
    "    "
   ]
  },
  {
   "cell_type": "code",
   "execution_count": 14,
   "metadata": {},
   "outputs": [
    {
     "name": "stdout",
     "output_type": "stream",
     "text": [
      "\n",
      "City with highest number of trips: NYC and highest number of trips is: 276081\n",
      "\n",
      "City with highest proportion of trips made by subscribers: NYC and highest proportion of trips made by subscribers is: 89.06661450806104\n",
      "\n",
      "City with  the highest proportion of trips made by short-term customers: Chicago and highest proportion of trips made by short-term customers is: 23.774798630269924\n"
     ]
    }
   ],
   "source": [
    "print('\\nCity with highest number of trips: {} and highest number of trips is: {}'.format(max_trip_city,max_trips))\n",
    "print('\\nCity with highest proportion of trips made by subscribers: {} and highest proportion of trips made by subscribers is: {}'.format(max_subs_city,max_subscribers))\n",
    "print('\\nCity with  the highest proportion of trips made by short-term customers: {} and highest proportion of trips made by short-term customers is: {}'.format(max_cust_city,max_customers))"
   ]
  },
  {
   "cell_type": "markdown",
   "metadata": {},
   "source": [
    "> **Tip**: In order to add additional cells to a notebook, you can use the \"Insert Cell Above\" and \"Insert Cell Below\" options from the menu bar above. There is also an icon in the toolbar for adding new cells, with additional icons for moving the cells up and down the document. By default, new cells are of the code type; you can also specify the cell type (e.g. Code or Markdown) of selected cells from the Cell menu or the dropdown in the toolbar.\n",
    "\n",
    "Now, you will write your own code to continue investigating properties of the data.\n",
    "\n",
    "**Question 4b**: Bike-share systems are designed for riders to take short trips. Most of the time, users are allowed to take trips of 30 minutes or less with no additional charges, with overage charges made for trips of longer than that duration. What is the average trip length for each city? What proportion of rides made in each city are longer than 30 minutes?\n",
    "\n",
    "**Answer**: Replace this text with your reponse!"
   ]
  },
  {
   "cell_type": "code",
   "execution_count": 15,
   "metadata": {
    "collapsed": true,
    "scrolled": true
   },
   "outputs": [],
   "source": [
    "## Use this and additional cells to answer Question 4b.                 ##\n",
    "##                                                                      ##\n",
    "## HINT: The csv module reads in all of the data as strings, including  ##\n",
    "## numeric values. You will need a function to convert the strings      ##\n",
    "## into an appropriate numeric type before you aggregate data.          ##\n",
    "## TIP: For the Bay Area example, the average trip length is 14 minutes ##\n",
    "## and 3.5% of trips are longer than 30 minutes.                        ##\n",
    "def average_trip_length(filename):\n",
    "    with open(filename, 'r') as f:\n",
    "        readerr = csv.DictReader(f)\n",
    "        sum_trip_length = 0\n",
    "        count = 0\n",
    "        sum_longer_length = 0\n",
    "        longer_length = 0\n",
    "        for row in readerr:\n",
    "            sum_trip_length+= float(row['duration'])\n",
    "            count+= 1\n",
    "            if float(row['duration'])>30:\n",
    "                longer_length+=1\n",
    "        av_trip_length = sum_trip_length/count\n",
    "        longer_length_trips = (longer_length/count)*100\n",
    "        return (int(av_trip_length),longer_length_trips)\n",
    "    \n",
    "    \n"
   ]
  },
  {
   "cell_type": "code",
   "execution_count": 16,
   "metadata": {},
   "outputs": [
    {
     "name": "stdout",
     "output_type": "stream",
     "text": [
      "For the Bay Area example,the average trip length:14 minutes and proportion of rides longer than 30 min:3.5243689474519764%\n"
     ]
    }
   ],
   "source": [
    "#running on example file so as to verify if the above method is correct.\n",
    "data_file = './examples/BayArea-Y3-Summary.csv'\n",
    "trip_length,long_trip_prop = average_trip_length(data_file)\n",
    "print('For the Bay Area example,the average trip length:{} minutes and proportion of rides longer than 30 min:{}%'.format(trip_length,long_trip_prop))"
   ]
  },
  {
   "cell_type": "code",
   "execution_count": 17,
   "metadata": {},
   "outputs": [
    {
     "name": "stdout",
     "output_type": "stream",
     "text": [
      "City:Washington\n",
      "The average trip length:18 minutes and proportion of rides longer than 30 min:10.83888671109369%\n",
      "\n",
      "City:Chicago\n",
      "The average trip length:16 minutes and proportion of rides longer than 30 min:8.332062497400562%\n",
      "\n",
      "City:NYC\n",
      "The average trip length:15 minutes and proportion of rides longer than 30 min:7.3024371563378345%\n",
      "\n"
     ]
    }
   ],
   "source": [
    "cities = {'Washington': {'in_file': './data/Washington-2016-Summary.csv'},\n",
    "             'Chicago': {'in_file': './data/Chicago-2016-Summary.csv'},\n",
    "             'NYC': {'in_file': './data/NYC-2016-Summary.csv'}}\n",
    "for city, filenames in cities.items():\n",
    "    trip_length,long_trip_prop = average_trip_length(filenames['in_file'])\n",
    "    print('City:{}'.format(city))\n",
    "    print('The average trip length:{} minutes and proportion of rides longer than 30 min:{}%\\n'.format(trip_length,long_trip_prop))"
   ]
  },
  {
   "cell_type": "markdown",
   "metadata": {},
   "source": [
    "**Question 4c**: Dig deeper into the question of trip duration based on ridership. Choose one city. Within that city, which type of user takes longer rides on average: Subscribers or Customers?\n",
    "\n",
    "**Answer**: Replace this text with your response!"
   ]
  },
  {
   "cell_type": "markdown",
   "metadata": {},
   "source": [
    "Lets examine Washington city!!"
   ]
  },
  {
   "cell_type": "code",
   "execution_count": 18,
   "metadata": {},
   "outputs": [
    {
     "name": "stdout",
     "output_type": "stream",
     "text": [
      "Average subscriber trip duration:12.528120499294745minutes.\n",
      "Average customer trip duration:959.5165110321267minutes\n",
      "Customers takes longer rides on average.\n"
     ]
    }
   ],
   "source": [
    "## Use this and additional cells to answer Question 4c. If you have    ##\n",
    "## not done so yet, consider revising some of your previous code to    ##\n",
    "## make use of functions for reusability.                              ##\n",
    "##                                                                     ##\n",
    "## TIP: For the Bay Area example data, you should find the average     ##\n",
    "## Subscriber trip duration to be 9.5 minutes and the average Customer ##\n",
    "## trip duration to be 54.6 minutes. Do the other cities have this     ##\n",
    "## level of difference?                                                ##\n",
    "data_file = './examples/BayArea-Y3-Summary.csv'\n",
    "washington_file = './data/Washington-2016-Summary.csv'\n",
    "#reusing the function number_of_trips(filename)\n",
    "subscriber,customer,total = number_of_trips(data_file)\n",
    "def calculate_long_rides(filename):\n",
    "    with open(filename, 'r') as f:\n",
    "        readerr = csv.DictReader(f)\n",
    "        subscriber_trip_length = 0\n",
    "        customer_trip_length = 0\n",
    "        count = 0\n",
    "        for row in readerr:\n",
    "            if row['user_type'] == 'Subscriber':\n",
    "                subscriber_trip_length+= float(row['duration'])\n",
    "                count+= 1\n",
    "            if row['user_type'] == 'Customer':\n",
    "                customer_trip_length+= float(row['duration'])\n",
    "        aver_subscriber_rides = subscriber_trip_length/count\n",
    "        aver_customer_rides = customer_trip_length/customer\n",
    "        print(\"Average subscriber trip duration:{}minutes.\".format(aver_subscriber_rides))\n",
    "        print(\"Average customer trip duration:{}minutes\".format(aver_customer_rides))\n",
    "        if aver_subscriber_rides > aver_customer_rides:\n",
    "            print(\"Subscribers takes longer rides on average.\")\n",
    "        else:\n",
    "            print(\"Customers takes longer rides on average.\")\n",
    "\n",
    "calculate_long_rides(washington_file)"
   ]
  },
  {
   "cell_type": "markdown",
   "metadata": {},
   "source": [
    "<a id='visualizations'></a>\n",
    "### Visualizations\n",
    "\n",
    "The last set of values that you computed should have pulled up an interesting result. While the mean trip time for Subscribers is well under 30 minutes, the mean trip time for Customers is actually _above_ 30 minutes! It will be interesting for us to look at how the trip times are distributed. In order to do this, a new library will be introduced here, `matplotlib`. Run the cell below to load the library and to generate an example plot."
   ]
  },
  {
   "cell_type": "code",
   "execution_count": 19,
   "metadata": {},
   "outputs": [
    {
     "data": {
      "image/png": "[encoded data removed]",
      "text/plain": [
       "<matplotlib.figure.Figure at 0x362c392320>"
      ]
     },
     "metadata": {},
     "output_type": "display_data"
    }
   ],
   "source": [
    "# load library\n",
    "import matplotlib.pyplot as plt\n",
    "\n",
    "# this is a 'magic word' that allows for plots to be displayed\n",
    "# inline with the notebook. If you want to know more, see:\n",
    "# http://ipython.readthedocs.io/en/stable/interactive/magics.html\n",
    "%matplotlib inline \n",
    "\n",
    "# example histogram, data taken from bay area sample\n",
    "data = [ 7.65,  8.92,  7.42,  5.50, 16.17,  4.20,  8.98,  9.62, 11.48, 14.33,\n",
    "        19.02, 21.53,  3.90,  7.97,  2.62,  2.67,  3.08, 14.40, 12.90,  7.83,\n",
    "        25.12,  8.30,  4.93, 12.43, 10.60,  6.17, 10.88,  4.78, 15.15,  3.53,\n",
    "         9.43, 13.32, 11.72,  9.85,  5.22, 15.10,  3.95,  3.17,  8.78,  1.88,\n",
    "         4.55, 12.68, 12.38,  9.78,  7.63,  6.45, 17.38, 11.90, 11.52,  8.63,]\n",
    "plt.hist(data)\n",
    "plt.title('Distribution of Trip Durations')\n",
    "plt.xlabel('Duration (m)')\n",
    "plt.show()"
   ]
  },
  {
   "cell_type": "markdown",
   "metadata": {},
   "source": [
    "In the above cell, we collected fifty trip times in a list, and passed this list as the first argument to the `.hist()` function. This function performs the computations and creates plotting objects for generating a histogram, but the plot is actually not rendered until the `.show()` function is executed. The `.title()` and `.xlabel()` functions provide some labeling for plot context.\n",
    "\n",
    "You will now use these functions to create a histogram of the trip times for the city you selected in question 4c. Don't separate the Subscribers and Customers for now: just collect all of the trip times and plot them."
   ]
  },
  {
   "cell_type": "markdown",
   "metadata": {},
   "source": [
    "The city selected in question 4c is Washington."
   ]
  },
  {
   "cell_type": "code",
   "execution_count": 20,
   "metadata": {},
   "outputs": [
    {
     "data": {
      "image/png": "[encoded data removed]",
      "text/plain": [
       "<matplotlib.figure.Figure at 0x362e0b2828>"
      ]
     },
     "metadata": {},
     "output_type": "display_data"
    }
   ],
   "source": [
    "## Use this and additional cells to collect all of the trip times as a list ##\n",
    "## and then use pyplot functions to generate a histogram of trip times.     ##\n",
    "trip_list = []\n",
    "trip_list_customers = []\n",
    "trip_list_subscribers = []\n",
    "def make_histograms(filename):\n",
    "    with open(filename, 'r') as f_in:\n",
    "        # set up csv reader object\n",
    "        reader = csv.DictReader(f_in)\n",
    "        for row in reader:\n",
    "            trip_list.append(float(row['duration']))\n",
    "            if row['user_type'] == 'Subscriber':\n",
    "                trip_list_customers.append(float(row['duration']))\n",
    "            if row['user_type'] == 'Customer':\n",
    "                trip_list_subscribers.append(float(row['duration']))\n",
    "                \n",
    "make_histograms('./data/Washington-2016-Summary.csv')\n",
    "plt.hist(trip_list)\n",
    "plt.title('Distribution of Trip Durations')\n",
    "plt.xlabel('Duration (m)')\n",
    "plt.show()"
   ]
  },
  {
   "cell_type": "markdown",
   "metadata": {},
   "source": [
    "If you followed the use of the `.hist()` and `.show()` functions exactly like in the example, you're probably looking at a plot that's completely unexpected. The plot consists of one extremely tall bar on the left, maybe a very short second bar, and a whole lot of empty space in the center and right. Take a look at the duration values on the x-axis. This suggests that there are some highly infrequent outliers in the data. Instead of reprocessing the data, you will use additional parameters with the `.hist()` function to limit the range of data that is plotted. Documentation for the function can be found [[here]](https://matplotlib.org/devdocs/api/_as_gen/matplotlib.pyplot.hist.html#matplotlib.pyplot.hist).\n",
    "\n",
    "**Question 5**: Use the parameters of the `.hist()` function to plot the distribution of trip times for the Subscribers in your selected city. Do the same thing for only the Customers. Add limits to the plots so that only trips of duration less than 75 minutes are plotted. As a bonus, set the plots up so that bars are in five-minute wide intervals. For each group, where is the peak of each distribution? How would you describe the shape of each distribution?\n",
    "\n",
    "**Answer**: Plotting the distribution of trip times for the Subscribers in Washington."
   ]
  },
  {
   "cell_type": "code",
   "execution_count": 21,
   "metadata": {},
   "outputs": [
    {
     "data": {
      "image/png": "[encoded data removed]",
      "text/plain": [
       "<matplotlib.figure.Figure at 0x362e08bc50>"
      ]
     },
     "metadata": {},
     "output_type": "display_data"
    }
   ],
   "source": [
    "## Use this and additional cells to answer Question 5. ##\n",
    "bins = [0,5,10,15,20,25,30,35,40,45,50,55,60,65,70]\n",
    "##plotting for subscribers.\n",
    "plt.hist(trip_list_subscribers,bins,range=[0,75],color='y')\n",
    "plt.title('Distribution of Trip Durations for Subscribers in Washington')\n",
    "plt.xlabel('Duration (m)')\n",
    "plt.show()\n",
    "\n"
   ]
  },
  {
   "cell_type": "markdown",
   "metadata": {},
   "source": [
    "**For the above plotting,in which distribution of Trip Durations for Subscribers in Washington is shown,the peak of the distribution is between 15 minutes to 20 miinutes and the peak is unimodal.The shape of above distribution is Right-Skewed.**"
   ]
  },
  {
   "cell_type": "markdown",
   "metadata": {},
   "source": [
    "**Answer**: Plotting the distribution of trip times for the Customers in Washington."
   ]
  },
  {
   "cell_type": "code",
   "execution_count": 22,
   "metadata": {},
   "outputs": [
    {
     "data": {
      "image/png": "[encoded data removed]",
      "text/plain": [
       "<matplotlib.figure.Figure at 0x362e3612b0>"
      ]
     },
     "metadata": {},
     "output_type": "display_data"
    }
   ],
   "source": [
    "##plotting for Customers\n",
    "bins = [0,5,10,15,20,25,30,35,40,45,50,55,60,65,70]\n",
    "plt.hist(trip_list_customers,bins,range=(0,75),color='g')\n",
    "plt.title('Distribution of Trip Durations for Customers in Washington')\n",
    "plt.xlabel('Duration (m)')\n",
    "plt.show()\n"
   ]
  },
  {
   "cell_type": "markdown",
   "metadata": {},
   "source": [
    "**For the above plotting,in which distribution of Trip Durations for Customers in Washington is shown,the peak of the distribution is between 5 minutes to 10 miinutes and peak is unimodal.The shape of above distribution is again Right-Skewed.**"
   ]
  },
  {
   "cell_type": "markdown",
   "metadata": {
    "collapsed": true
   },
   "source": [
    "<a id='eda_continued'></a>\n",
    "## Performing Your Own Analysis\n",
    "\n",
    "So far, you've performed an initial exploration into the data available. You have compared the relative volume of trips made between three U.S. cities and the ratio of trips made by Subscribers and Customers. For one of these cities, you have investigated differences between Subscribers and Customers in terms of how long a typical trip lasts. Now it is your turn to continue the exploration in a direction that you choose. Here are a few suggestions for questions to explore:\n",
    "\n",
    "- How does ridership differ by month or season? Which month / season has the highest ridership? Does the ratio of Subscriber trips to Customer trips change depending on the month or season?\n",
    "- Is the pattern of ridership different on the weekends versus weekdays? On what days are Subscribers most likely to use the system? What about Customers? Does the average duration of rides change depending on the day of the week?\n",
    "- During what time of day is the system used the most? Is there a difference in usage patterns for Subscribers and Customers?\n",
    "\n",
    "If any of the questions you posed in your answer to question 1 align with the bullet points above, this is a good opportunity to investigate one of them. As part of your investigation, you will need to create a visualization. If you want to create something other than a histogram, then you might want to consult the [Pyplot documentation](https://matplotlib.org/devdocs/api/pyplot_summary.html). In particular, if you are plotting values across a categorical variable (e.g. city, user type), a bar chart will be useful. The [documentation page for `.bar()`](https://matplotlib.org/devdocs/api/_as_gen/matplotlib.pyplot.bar.html#matplotlib.pyplot.bar) includes links at the bottom of the page with examples for you to build off of for your own use.\n",
    "\n",
    "**Question 6**: Continue the investigation by exploring another question that could be answered by the data available. Document the question you want to explore below. Your investigation should involve at least two variables and should compare at least two groups. You should also use at least one visualization as part of your explorations.\n",
    "\n",
    "**Answer**: Is the pattern of ridership different on the weekends versus weekdays? On what days are Subscribers most likely to use the system? What about Customers? Does the average duration of rides change depending on the day of the week?"
   ]
  },
  {
   "cell_type": "markdown",
   "metadata": {},
   "source": [
    "Weekends includes days- Saturday and Sunday.\n",
    "Rest all days are weekdays.\n",
    "\n",
    "**Ques. Is the pattern of ridership different on the weekends versus weekdays?**\n",
    "\n",
    "Ans: Yes, pattern of ridership different on the weekends versus weekdays."
   ]
  },
  {
   "cell_type": "markdown",
   "metadata": {},
   "source": [
    "_Lets explore this question for New York city._"
   ]
  },
  {
   "cell_type": "code",
   "execution_count": 23,
   "metadata": {
    "collapsed": true
   },
   "outputs": [],
   "source": [
    "## Use this and additional cells to continue to explore the dataset. ##\n",
    "## Once you have performed your exploration, document your findings  ##\n",
    "## in the Markdown cell above.  ##\n",
    "##EXPLORING---Is the pattern of ridership different on the weekends versus weekdays\n",
    "def days_distinguish(filename):\n",
    "    weekend_duration_list=[] #Duration list of Saturday and Sundday.\n",
    "    weekdays_duration_list=[]\n",
    "    with open(filename, 'r') as f:\n",
    "        reader = csv.DictReader(f)\n",
    "        for row in reader:\n",
    "            if row['day_of_week']=='Sunday' or row['day_of_week']=='Saturday':\n",
    "                weekend_duration_list.append(float(row['duration'])) #adding duration to a list.\n",
    "            else:\n",
    "                weekdays_duration_list.append(float(row['duration']))\n",
    "        return weekend_duration_list,weekdays_duration_list\n",
    "        "
   ]
  },
  {
   "cell_type": "code",
   "execution_count": 24,
   "metadata": {},
   "outputs": [
    {
     "name": "stdout",
     "output_type": "stream",
     "text": [
      "City:NYC\n"
     ]
    },
    {
     "data": {
      "image/png": "[encoded data removed]",
      "text/plain": [
       "<matplotlib.figure.Figure at 0x362e361630>"
      ]
     },
     "metadata": {},
     "output_type": "display_data"
    },
    {
     "data": {
      "image/png": "[encoded data removed]",
      "text/plain": [
       "<matplotlib.figure.Figure at 0x3630458898>"
      ]
     },
     "metadata": {},
     "output_type": "display_data"
    }
   ],
   "source": [
    "weekends,weekdays = days_distinguish('./data/NYC-2016-Summary.csv')\n",
    "print('City:NYC')\n",
    "#Plotting the histogram for Weekend and Weekdays list.\n",
    "plt.hist(weekends,range=(0,75), label='Weekends',color='c', bins=10)\n",
    "plt.xlabel(\"Duration (m)\")\n",
    "plt.legend(loc='upper right')\n",
    "plt.title('Pattern of ridership for weekends in city NYC')\n",
    "plt.show()\n",
    "plt.hist(weekdays,range=(0,75), color='y',label='Weekdays', bins=12)\n",
    "plt.xlabel(\"Duration (m)\")\n",
    "plt.legend(loc='upper right')\n",
    "plt.title('Pattern of ridership for weekdays in city NYC')\n",
    "plt.show()\n",
    "    "
   ]
  },
  {
   "cell_type": "markdown",
   "metadata": {},
   "source": [
    "**Ques. On what days are Subscribers most likely to use the system?**"
   ]
  },
  {
   "cell_type": "code",
   "execution_count": 25,
   "metadata": {
    "collapsed": true
   },
   "outputs": [],
   "source": [
    "#Function is defined here to explore above question.\n",
    "def explore_days(filename,usertype):\n",
    "    with open(filename,'r') as f:\n",
    "        reader = csv.DictReader(f)\n",
    "        mon=0\n",
    "        tue=0\n",
    "        wed=0\n",
    "        thu=0\n",
    "        fri=0\n",
    "        sat=0\n",
    "        sun=0\n",
    "        dayss={}\n",
    "        for row in reader:\n",
    "            if row['user_type'] == usertype:\n",
    "                if row['day_of_week'] == 'Monday':\n",
    "                    mon+=1\n",
    "                if row['day_of_week'] == 'Tuesday':\n",
    "                    tue+=1\n",
    "                if row['day_of_week'] == 'Wednesday':\n",
    "                    wed+=1\n",
    "                if row['day_of_week'] == 'Thursday':\n",
    "                    thu+=1\n",
    "                if row['day_of_week'] == 'Friday':\n",
    "                    fri+=1\n",
    "                if row['day_of_week'] == 'Saturday':\n",
    "                    sat+=1\n",
    "                if row['day_of_week'] == 'Sunday':\n",
    "                    sun+=1\n",
    "        dayss['Monday'] = mon\n",
    "        dayss['Tuesday'] = tue\n",
    "        dayss['Wednesday'] = wed\n",
    "        dayss['Thursday'] = thu\n",
    "        dayss['Friday'] = fri\n",
    "        dayss['Saturday'] = sat\n",
    "        dayss['Sunday'] = sun\n",
    "        return dayss"
   ]
  },
  {
   "cell_type": "code",
   "execution_count": 26,
   "metadata": {},
   "outputs": [
    {
     "name": "stdout",
     "output_type": "stream",
     "text": [
      "City:Washington\n",
      "{'Monday': 7658, 'Tuesday': 8322, 'Wednesday': 8520, 'Thursday': 8454, 'Friday': 7958, 'Saturday': 5589, 'Sunday': 5252}\n",
      "Subscriber most likely to use the system in city Washington on ['Wednesday']\n"
     ]
    },
    {
     "data": {
      "image/png": "[encoded data removed]",
      "text/plain": [
       "<matplotlib.figure.Figure at 0x362fb48780>"
      ]
     },
     "metadata": {},
     "output_type": "display_data"
    },
    {
     "name": "stdout",
     "output_type": "stream",
     "text": [
      "City:Chicago\n",
      "{'Monday': 8840, 'Tuesday': 9356, 'Wednesday': 8447, 'Thursday': 8643, 'Friday': 8648, 'Saturday': 5676, 'Sunday': 5372}\n",
      "Subscriber most likely to use the system in city Chicago on ['Tuesday']\n"
     ]
    },
    {
     "data": {
      "image/png": "[encoded data removed]",
      "text/plain": [
       "<matplotlib.figure.Figure at 0x36304c4320>"
      ]
     },
     "metadata": {},
     "output_type": "display_data"
    },
    {
     "name": "stdout",
     "output_type": "stream",
     "text": [
      "City:NYC\n",
      "{'Monday': 35623, 'Tuesday': 39487, 'Wednesday': 41403, 'Thursday': 41197, 'Friday': 37606, 'Saturday': 26126, 'Sunday': 24454}\n",
      "Subscriber most likely to use the system in city NYC on ['Wednesday']\n"
     ]
    },
    {
     "data": {
      "image/png": "[encoded data removed]",
      "text/plain": [
       "<matplotlib.figure.Figure at 0x3630574c50>"
      ]
     },
     "metadata": {},
     "output_type": "display_data"
    }
   ],
   "source": [
    "cities = {'Washington': {'in_file': './data/Washington-2016-Summary.csv'},\n",
    "            'Chicago': {'in_file': './data/Chicago-2016-Summary.csv'},\n",
    "            'NYC': {'in_file': './data/NYC-2016-Summary.csv'}}\n",
    "for city, filenames in cities.items():\n",
    "    #Calling the function for Subscribers.\n",
    "    days = explore_days(filenames['in_file'],'Subscriber')\n",
    "    print('City:{}'.format(city))\n",
    "    print(days)\n",
    "    max_value = max(days.values())  # maximum value\n",
    "    max_keys = [k for k, v in days.items() if v == max_value] # getting all keys containing the `maximum`\n",
    "    print('Subscriber most likely to use the system in city {} on {}'.format(city,max_keys))\n",
    "    my_colors = 'rgbkymc'\n",
    "    plt.bar(range(len(days)), list(days.values()), align='center',color=my_colors)\n",
    "    plt.xticks(range(len(days)), list(days.keys()))\n",
    "    plt.title(\"Number of times Bikeshare System used by Subscriber on these days in city {}\".format(city))\n",
    "    plt.show()\n",
    "    "
   ]
  },
  {
   "cell_type": "markdown",
   "metadata": {},
   "source": [
    "**Ques. On what days are Customers most likely to use the system?**"
   ]
  },
  {
   "cell_type": "code",
   "execution_count": 27,
   "metadata": {},
   "outputs": [
    {
     "name": "stdout",
     "output_type": "stream",
     "text": [
      "City:Washington\n",
      "{'Monday': 1736, 'Tuesday': 1426, 'Wednesday': 1583, 'Thursday': 1530, 'Friday': 2012, 'Saturday': 3311, 'Sunday': 2975}\n",
      "Customer most likely to use the system in city Washington on ['Saturday']\n"
     ]
    },
    {
     "data": {
      "image/png": "[encoded data removed]",
      "text/plain": [
       "<matplotlib.figure.Figure at 0x3630524c18>"
      ]
     },
     "metadata": {},
     "output_type": "display_data"
    },
    {
     "name": "stdout",
     "output_type": "stream",
     "text": [
      "City:Chicago\n",
      "{'Monday': 2446, 'Tuesday': 1555, 'Wednesday': 1157, 'Thursday': 1365, 'Friday': 2093, 'Saturday': 4251, 'Sunday': 4282}\n",
      "Customer most likely to use the system in city Chicago on ['Sunday']\n"
     ]
    },
    {
     "data": {
      "image/png": "[encoded data removed]",
      "text/plain": [
       "<matplotlib.figure.Figure at 0x363066c7f0>"
      ]
     },
     "metadata": {},
     "output_type": "display_data"
    },
    {
     "name": "stdout",
     "output_type": "stream",
     "text": [
      "City:NYC\n",
      "{'Monday': 3620, 'Tuesday': 2833, 'Wednesday': 3152, 'Thursday': 3065, 'Friday': 3670, 'Saturday': 7069, 'Sunday': 6776}\n",
      "Customer most likely to use the system in city NYC on ['Saturday']\n"
     ]
    },
    {
     "data": {
      "image/png": "[encoded data removed]",
      "text/plain": [
       "<matplotlib.figure.Figure at 0x362e339518>"
      ]
     },
     "metadata": {},
     "output_type": "display_data"
    }
   ],
   "source": [
    "cities = {'Washington': {'in_file': './data/Washington-2016-Summary.csv'},\n",
    "            'Chicago': {'in_file': './data/Chicago-2016-Summary.csv'},\n",
    "            'NYC': {'in_file': './data/NYC-2016-Summary.csv'}}\n",
    "for city, filenames in cities.items():\n",
    "    #Calling the function for Customer\n",
    "    days = explore_days(filenames['in_file'],'Customer')\n",
    "    print('City:{}'.format(city))\n",
    "    print(days)\n",
    "    max_value = max(days.values())  # maximum value\n",
    "    max_keys = [k for k, v in days.items() if v == max_value] # getting all keys containing the `maximum`\n",
    "    print('Customer most likely to use the system in city {} on {}'.format(city,max_keys))\n",
    "    my_colors = 'cmykbgr'\n",
    "    plt.bar(range(len(days)), list(days.values()), align='center',color=my_colors)\n",
    "    plt.xticks(range(len(days)), list(days.keys()))\n",
    "    plt.title(\"Number of times Bikeshare System used by Customers on these days in city {}\".format(city))\n",
    "    plt.show()"
   ]
  },
  {
   "cell_type": "markdown",
   "metadata": {},
   "source": [
    "**Ques. Does the average duration of rides change depending on the day of the week?**\n",
    "\n",
    "Ans: Yes,average duration of rides change depending on the day of week."
   ]
  },
  {
   "cell_type": "code",
   "execution_count": 28,
   "metadata": {
    "collapsed": true
   },
   "outputs": [],
   "source": [
    "#With the help of this function,calculating the average duration of rides for each city.\n",
    "def average_duration_days(filename):\n",
    "    with open(filename,'r') as f:\n",
    "        reader = csv.DictReader(f)\n",
    "        mon=0\n",
    "        dur_mon=0\n",
    "        tue=0\n",
    "        dur_tue=0\n",
    "        wed=0\n",
    "        dur_wed=0\n",
    "        thu=0\n",
    "        dur_thu=0\n",
    "        fri=0\n",
    "        dur_fri=0\n",
    "        sat=0\n",
    "        dur_sat=0\n",
    "        sun=0\n",
    "        dur_sun=0\n",
    "        dayss={}\n",
    "        for row in reader:\n",
    "            if row['day_of_week'] == 'Monday':\n",
    "                mon+=1\n",
    "                dur_mon+= float(row['duration'])\n",
    "            if row['day_of_week'] == 'Tuesday':\n",
    "                tue+=1\n",
    "                dur_tue+= float(row['duration'])\n",
    "            if row['day_of_week'] == 'Wednesday':\n",
    "                wed+=1\n",
    "                dur_wed+= float(row['duration'])\n",
    "            if row['day_of_week'] == 'Thursday':\n",
    "                thu+=1\n",
    "                dur_thu+= float(row['duration'])\n",
    "            if row['day_of_week'] == 'Friday':\n",
    "                fri+=1\n",
    "                dur_fri+= float(row['duration'])\n",
    "            if row['day_of_week'] == 'Saturday':\n",
    "                sat+=1\n",
    "                dur_sat+= float(row['duration'])\n",
    "            if row['day_of_week'] == 'Sunday':\n",
    "                sun+=1\n",
    "                dur_sun+= float(row['duration'])\n",
    "        dayss['Monday'] = dur_mon/mon\n",
    "        dayss['Tuesday'] = dur_tue/tue\n",
    "        dayss['Wednesday'] = dur_wed/wed\n",
    "        dayss['Thursday'] = dur_thu/thu\n",
    "        dayss['Friday'] = dur_fri/fri\n",
    "        dayss['Saturday'] = dur_sat/sat\n",
    "        dayss['Sunday'] = dur_sun/sun\n",
    "        return dayss"
   ]
  },
  {
   "cell_type": "code",
   "execution_count": 29,
   "metadata": {},
   "outputs": [
    {
     "name": "stdout",
     "output_type": "stream",
     "text": [
      "City:Washington\n",
      "{'Monday': 17.5637550635157, 'Tuesday': 16.69108387361512, 'Wednesday': 16.294892746379023, 'Thursday': 16.685823671207284, 'Friday': 17.931890384486792, 'Saturday': 24.81150271161071, 'Sunday': 23.972442542846792}\n",
      "Maximum average duration of rides in city Washington is on ['Saturday']\n"
     ]
    },
    {
     "data": {
      "image/png": "[encoded data removed]",
      "text/plain": [
       "<matplotlib.figure.Figure at 0x36304bb668>"
      ]
     },
     "metadata": {},
     "output_type": "display_data"
    },
    {
     "name": "stdout",
     "output_type": "stream",
     "text": [
      "City:Chicago\n",
      "{'Monday': 16.115381889066008, 'Tuesday': 14.297109950203156, 'Wednesday': 14.462123420796864, 'Thursday': 13.933764654942733, 'Friday': 15.576898488657195, 'Saturday': 20.630974446794895, 'Sunday': 21.381674262827143}\n",
      "Maximum average duration of rides in city Chicago is on ['Sunday']\n"
     ]
    },
    {
     "data": {
      "image/png": "[encoded data removed]",
      "text/plain": [
       "<matplotlib.figure.Figure at 0x362e39c400>"
      ]
     },
     "metadata": {},
     "output_type": "display_data"
    },
    {
     "name": "stdout",
     "output_type": "stream",
     "text": [
      "City:NYC\n",
      "{'Monday': 15.07595238095228, 'Tuesday': 14.297031403529449, 'Wednesday': 14.636322047696872, 'Thursday': 14.552951725693545, 'Friday': 16.023964096740567, 'Saturday': 18.795957884848054, 'Sunday': 18.789433954239893}\n",
      "Maximum average duration of rides in city NYC is on ['Saturday']\n"
     ]
    },
    {
     "data": {
      "image/png": "[encoded data removed]",
      "text/plain": [
       "<matplotlib.figure.Figure at 0x36306775c0>"
      ]
     },
     "metadata": {},
     "output_type": "display_data"
    }
   ],
   "source": [
    "cities = {'Washington': {'in_file': './data/Washington-2016-Summary.csv'},\n",
    "            'Chicago': {'in_file': './data/Chicago-2016-Summary.csv'},\n",
    "            'NYC': {'in_file': './data/NYC-2016-Summary.csv'}}\n",
    "for city, filenames in cities.items():\n",
    "    days = average_duration_days(filenames['in_file'])\n",
    "    print('City:{}'.format(city))\n",
    "    print(days)\n",
    "    max_value = max(days.values())  # maximum value\n",
    "    max_keys = [k for k, v in days.items() if v == max_value] # getting all keys containing the `maximum`\n",
    "    print('Maximum average duration of rides in city {} is on {}'.format(city,max_keys))\n",
    "    my_colors = 'brykcgm'\n",
    "    plt.bar(range(len(days)), list(days.values()), align='center',color=my_colors)\n",
    "    plt.xticks(range(len(days)), list(days.keys()))\n",
    "    plt.title(\"Average duration of rides with respect to days in city {}\".format(city))\n",
    "    #plotting is done to see that the average duration of rides change depending on the day of week.\n",
    "    plt.show()"
   ]
  },
  {
   "cell_type": "markdown",
   "metadata": {},
   "source": [
    "<a id='conclusions'></a>\n",
    "## Conclusions\n",
    "\n",
    "Congratulations on completing the project! This is only a sampling of the data analysis process: from generating questions, wrangling the data, and to exploring the data. Normally, at this point in the data analysis process, you might want to draw conclusions about the data by performing a statistical test or fitting the data to a model for making predictions. There are also a lot of potential analyses that could be performed on the data which are not possible with only the data provided. For example, detailed location data has not been investigated. Where are the most commonly used docks? What are the most common routes? As another example, weather has potential to have a large impact on daily ridership. How much is ridership impacted when there is rain or snow? Are subscribers or customers affected more by changes in weather?\n",
    "\n",
    "**Question 7**: Putting the bike share data aside, think of a topic or field of interest where you would like to be able to apply the techniques of data science. What would you like to be able to learn from your chosen subject?\n",
    "\n",
    "**Answer**: Pharmaceutical companies uses data analysis and machine learning to predict which chemical compounds are likely to make effective drugs.Using this,better decisions can be made about which compounds are likely to be good use of resources involved in running a clinical trial.\n",
    "\n",
    "> **Tip**: If we want to share the results of our analysis with others, we aren't limited to giving them a copy of the jupyter Notebook (.ipynb) file. We can also export the Notebook output in a form that can be opened even for those without Python installed. From the **File** menu in the upper left, go to the **Download as** submenu. You can then choose a different format that can be viewed more generally, such as HTML (.html) or\n",
    "PDF (.pdf). You may need additional packages or software to perform these exports."
   ]
  },
  {
   "cell_type": "markdown",
   "metadata": {
    "collapsed": true
   },
   "source": [
    "## References"
   ]
  },
  {
   "cell_type": "markdown",
   "metadata": {},
   "source": [
    "https://stackoverflow.com/\n",
    "\n",
    "https://docs.python.org/3/library/csv.html\n",
    "\n",
    "https://docs.python.org/3/library/csv.html#reader-objects\n",
    "\n",
    "https://www.tutorialspoint.com/python/python_dictionary.htm\n"
   ]
  }
 ],
 "metadata": {
  "anaconda-cloud": {},
  "kernelspec": {
   "display_name": "Python 3",
   "language": "python",
   "name": "python3"
  },
  "language_info": {
   "codemirror_mode": {
    "name": "ipython",
    "version": 3
   },
   "file_extension": ".py",
   "mimetype": "text/x-python",
   "name": "python",
   "nbconvert_exporter": "python",
   "pygments_lexer": "ipython3",
   "version": "3.6.3"
  }
 },
 "nbformat": 4,
 "nbformat_minor": 1
}
